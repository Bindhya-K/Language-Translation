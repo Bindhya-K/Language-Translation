{
  "nbformat": 4,
  "nbformat_minor": 0,
  "metadata": {
    "colab": {
      "provenance": [],
      "gpuType": "T4",
      "authorship_tag": "ABX9TyNfz9epGNQ3lL06DBqNLWDp",
      "include_colab_link": true
    },
    "kernelspec": {
      "name": "python3",
      "display_name": "Python 3"
    },
    "language_info": {
      "name": "python"
    },
    "accelerator": "GPU"
  },
  "cells": [
    {
      "cell_type": "markdown",
      "metadata": {
        "id": "view-in-github",
        "colab_type": "text"
      },
      "source": [
        "<a href=\"https://colab.research.google.com/github/Bindhya-K/Language-Translation/blob/master/LanguageTranslation_Seq2Seq.ipynb\" target=\"_parent\"><img src=\"https://colab.research.google.com/assets/colab-badge.svg\" alt=\"Open In Colab\"/></a>"
      ]
    },
    {
      "cell_type": "code",
      "execution_count": 1,
      "metadata": {
        "id": "KZhPaDcOqX5j"
      },
      "outputs": [],
      "source": [
        "import pandas as pd\n",
        "import re\n",
        "from keras.models import Model\n",
        "from keras.layers import TimeDistributed\n",
        "from keras.optimizers import Adam\n",
        "from keras.layers import *\n",
        "from keras.preprocessing.text import Tokenizer\n",
        "import numpy as np\n",
        "from keras.preprocessing.sequence import pad_sequences"
      ]
    },
    {
      "cell_type": "code",
      "source": [
        "data_path = 'fra-eng.txt'\n",
        "num_samples = 100000"
      ],
      "metadata": {
        "id": "jZWrZwxJJg2j"
      },
      "execution_count": 2,
      "outputs": []
    },
    {
      "cell_type": "code",
      "source": [
        "# Reading the data\n",
        "input_texts=[]\n",
        "target_texts=[]\n",
        "with open(data_path,'r',encoding='utf-8')as f:\n",
        "    lines = f.read().split('\\n')\n",
        "for line in lines[: min(num_samples,len(lines)-1)]:\n",
        "    input_text,target_text = line.split('\\t')\n",
        "    input_texts.append(input_text)\n",
        "    target_texts.append(target_text)"
      ],
      "metadata": {
        "id": "l2DpoGkKGng0"
      },
      "execution_count": 3,
      "outputs": []
    },
    {
      "cell_type": "code",
      "source": [
        "len(lines)"
      ],
      "metadata": {
        "id": "KbWUHjVCEATG",
        "colab": {
          "base_uri": "https://localhost:8080/"
        },
        "outputId": "e4dbbfae-f5e8-481f-cd7e-3cf38fb2d0c2"
      },
      "execution_count": 4,
      "outputs": [
        {
          "output_type": "execute_result",
          "data": {
            "text/plain": [
              "82685"
            ]
          },
          "metadata": {},
          "execution_count": 4
        }
      ]
    },
    {
      "cell_type": "code",
      "source": [
        "#Cleaning the data\n",
        "def clean_data(sentence):\n",
        "  lower = sentence.lower()\n",
        "  cleaned_sentence = [re.sub(r'[^\\w\\s]','' , lower)]\n",
        "  return cleaned_sentence"
      ],
      "metadata": {
        "id": "94sjkzwnA4T4"
      },
      "execution_count": 5,
      "outputs": []
    },
    {
      "cell_type": "code",
      "source": [
        "# tokenizing the data\n",
        "def tokenize(sentence):\n",
        "    t = Tokenizer()\n",
        "    t.fit_on_texts(sentence)\n",
        "    return t.texts_to_sequences(sentence),t"
      ],
      "metadata": {
        "id": "whdOlPIFJdto"
      },
      "execution_count": 6,
      "outputs": []
    },
    {
      "cell_type": "code",
      "source": [
        "cleaned_eng_sentence = [clean_data(sentence) for sentence in input_texts]\n",
        "cleaned_lan1_sentence = [clean_data(sentence) for sentence in target_texts]"
      ],
      "metadata": {
        "id": "SCjZY9HrJflU"
      },
      "execution_count": 7,
      "outputs": []
    },
    {
      "cell_type": "code",
      "source": [
        "eng_text_tokenized,eng_text_tokenizer =tokenize(input_texts)\n",
        "lan1_text_tokenized,lan1_text_tokenizer = tokenize(target_texts)"
      ],
      "metadata": {
        "id": "_6VgWgUmG_VG"
      },
      "execution_count": 8,
      "outputs": []
    },
    {
      "cell_type": "code",
      "source": [],
      "metadata": {
        "id": "vkOY5eHIW7Ol"
      },
      "execution_count": null,
      "outputs": []
    },
    {
      "cell_type": "code",
      "source": [
        "# English and language1 vocabulary size\n",
        "eng_vocab = len(eng_text_tokenizer.word_index)+1\n",
        "lan1_vocab = len(lan1_text_tokenizer.word_index)+1\n",
        "# MAximum sentence length\n",
        "eng_sentence_max_length = int(len(max(eng_text_tokenized,key=len)))\n",
        "lan1_sentence_max_length = int(len(max(lan1_text_tokenized,key=len)))\n",
        "print('English Vocabulary size:', eng_vocab)\n",
        "print('Language1 vocab size:',lan1_vocab)\n",
        "print('English sentence max length:', eng_sentence_max_length)\n",
        "print('Language1 sentence max length:',lan1_sentence_max_length)"
      ],
      "metadata": {
        "id": "FCXY7IkMH06Q",
        "colab": {
          "base_uri": "https://localhost:8080/"
        },
        "outputId": "ab3f187f-c17c-447e-e3d2-3c18f1df6b9a"
      },
      "execution_count": 9,
      "outputs": [
        {
          "output_type": "stream",
          "name": "stdout",
          "text": [
            "English Vocabulary size: 8038\n",
            "Language1 vocab size: 17502\n",
            "English sentence max length: 8\n",
            "Language1 sentence max length: 15\n"
          ]
        }
      ]
    },
    {
      "cell_type": "code",
      "source": [
        "# padding the sequence and reshaping it\n",
        "eng_pad_sequence = pad_sequences(eng_text_tokenized,eng_sentence_max_length,padding='post')\n",
        "lan1_pad_Sequence = pad_sequences(lan1_text_tokenized,lan1_sentence_max_length,padding='post')"
      ],
      "metadata": {
        "id": "fu48z8E-pn5v"
      },
      "execution_count": 10,
      "outputs": []
    },
    {
      "cell_type": "code",
      "source": [
        "print(eng_pad_sequence[0])\n",
        "print(lan1_pad_Sequence[0])"
      ],
      "metadata": {
        "colab": {
          "base_uri": "https://localhost:8080/"
        },
        "id": "iLy6exx9p_Ip",
        "outputId": "ccabcd21-5e03-4b9f-bb8b-ac5aba4f77e7"
      },
      "execution_count": 11,
      "outputs": [
        {
          "output_type": "stream",
          "name": "stdout",
          "text": [
            "[37  0  0  0  0  0  0  0]\n",
            "[96  0  0  0  0  0  0  0  0  0  0  0  0  0  0]\n"
          ]
        }
      ]
    },
    {
      "cell_type": "code",
      "source": [
        "# building the model\n",
        "input_sequence = Input(shape=(eng_sentence_max_length,))\n",
        "embedding = Embedding(input_dim=eng_vocab,output_dim=128,)(input_sequence)\n",
        "encoder =LSTM(64,return_sequences=False)(embedding)\n",
        "r_vec = RepeatVector(lan1_sentence_max_length)(encoder)\n",
        "decoder = LSTM(64,return_sequences=True,dropout=0.2)(r_vec)\n",
        "logits = TimeDistributed(Dense(lan1_vocab))(decoder)"
      ],
      "metadata": {
        "id": "pfRMB0GitjhO"
      },
      "execution_count": 12,
      "outputs": []
    },
    {
      "cell_type": "code",
      "source": [
        "# train the model\n",
        "model = Model(input_sequence,Activation('softmax')(logits))\n",
        "model.compile(loss='sparse_categorical_crossentropy',\n",
        "             optimizer= Adam(0.001),\n",
        "             metrics=['accuracy'])\n",
        "model.summary()"
      ],
      "metadata": {
        "colab": {
          "base_uri": "https://localhost:8080/"
        },
        "id": "sCu8OxUXuPXu",
        "outputId": "f2b90f46-4703-41fb-fc4e-acb33a88a0ee"
      },
      "execution_count": 13,
      "outputs": [
        {
          "output_type": "stream",
          "name": "stdout",
          "text": [
            "Model: \"model\"\n",
            "_________________________________________________________________\n",
            " Layer (type)                Output Shape              Param #   \n",
            "=================================================================\n",
            " input_1 (InputLayer)        [(None, 8)]               0         \n",
            "                                                                 \n",
            " embedding (Embedding)       (None, 8, 128)            1028864   \n",
            "                                                                 \n",
            " lstm (LSTM)                 (None, 64)                49408     \n",
            "                                                                 \n",
            " repeat_vector (RepeatVecto  (None, 15, 64)            0         \n",
            " r)                                                              \n",
            "                                                                 \n",
            " lstm_1 (LSTM)               (None, 15, 64)            33024     \n",
            "                                                                 \n",
            " time_distributed (TimeDist  (None, 15, 17502)         1137630   \n",
            " ributed)                                                        \n",
            "                                                                 \n",
            " activation (Activation)     (None, 15, 17502)         0         \n",
            "                                                                 \n",
            "=================================================================\n",
            "Total params: 2248926 (8.58 MB)\n",
            "Trainable params: 2248926 (8.58 MB)\n",
            "Non-trainable params: 0 (0.00 Byte)\n",
            "_________________________________________________________________\n"
          ]
        }
      ]
    },
    {
      "cell_type": "code",
      "source": [
        "results = model.fit(eng_pad_sequence,lan1_pad_Sequence,batch_size=30,epochs=30)"
      ],
      "metadata": {
        "colab": {
          "base_uri": "https://localhost:8080/"
        },
        "id": "kTW02JmcuUZx",
        "outputId": "0752e38c-43cd-4e83-cd29-6347102f9f07"
      },
      "execution_count": null,
      "outputs": [
        {
          "output_type": "stream",
          "name": "stdout",
          "text": [
            "Epoch 1/30\n",
            "1379/1379 [==============================] - 727s 523ms/step - loss: 2.5874 - accuracy: 0.6813\n",
            "Epoch 2/30\n",
            "1379/1379 [==============================] - 705s 511ms/step - loss: 2.0876 - accuracy: 0.6998\n",
            "Epoch 3/30\n",
            " 734/1379 [==============>...............] - ETA: 5:27 - loss: 1.9586 - accuracy: 0.7113"
          ]
        }
      ]
    },
    {
      "cell_type": "code",
      "source": [
        "index_words = {idx:word for word, idx in lan1_text_tokenizer.word_index.items() }\n",
        "index_words[0]='<empty>'\n",
        "index = int(input(enter the index))\n",
        "predictions = np.argmax(model.predict(eng_pad_sequence)[index],1)\n",
        "mapped_prediction = [index_words[i] for i in predictions]\n",
        "print('The English Sentence :', input_texts[index])\n",
        "print('The French sentence :',target_texts[index])\n",
        "print('The predicted french sentence:',' '.join(mapped_preiction))"
      ],
      "metadata": {
        "colab": {
          "base_uri": "https://localhost:8080/"
        },
        "id": "TploKD6e7PAt",
        "outputId": "0e25e9ba-82e5-408d-d78e-3a62699199a0"
      },
      "execution_count": 88,
      "outputs": [
        {
          "output_type": "stream",
          "name": "stdout",
          "text": [
            "te vous tu confiance <empty> <empty> <empty> <empty> <empty> <empty>\n"
          ]
        }
      ]
    },
    {
      "cell_type": "code",
      "source": [
        "target_texts[9999]"
      ],
      "metadata": {
        "colab": {
          "base_uri": "https://localhost:8080/",
          "height": 36
        },
        "id": "ENV0Oncl8Lvh",
        "outputId": "1d9fbc04-6dd0-4562-cc0a-34e5150519e8"
      },
      "execution_count": 86,
      "outputs": [
        {
          "output_type": "execute_result",
          "data": {
            "text/plain": [
              "'Me faites-vous confiance ?'"
            ],
            "application/vnd.google.colaboratory.intrinsic+json": {
              "type": "string"
            }
          },
          "metadata": {},
          "execution_count": 86
        }
      ]
    },
    {
      "cell_type": "code",
      "source": [
        "# sentence prediction\n",
        "def output_sentence(model,tokenizer):\n",
        "\n",
        "  return index_words\n",
        "\n",
        "'''index=10\n",
        "print('the English sentence:',input_texts[index])\n",
        "print('the French sentence:',target_texts[index])\n",
        "print('The predicted French sentence:')\n",
        "print(output_sentence(model.predict(eng_pad_sequence[index:index+1][0]),lan1_text_tokenizer))'''"
      ],
      "metadata": {
        "colab": {
          "base_uri": "https://localhost:8080/",
          "height": 53
        },
        "id": "gNGbg7JmwIy6",
        "outputId": "4a555f77-fada-43e8-9b77-da76f9b32b5b"
      },
      "execution_count": 81,
      "outputs": [
        {
          "output_type": "execute_result",
          "data": {
            "text/plain": [
              "\"index=10\\nprint('the English sentence:',input_texts[index])\\nprint('the French sentence:',target_texts[index])\\nprint('The predicted French sentence:')\\nprint(output_sentence(model.predict(eng_pad_sequence[index:index+1][0]),lan1_text_tokenizer))\""
            ],
            "application/vnd.google.colaboratory.intrinsic+json": {
              "type": "string"
            }
          },
          "metadata": {},
          "execution_count": 81
        }
      ]
    }
  ]
}